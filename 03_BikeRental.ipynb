{
  "nbformat": 4,
  "nbformat_minor": 0,
  "metadata": {
    "colab": {
      "name": "03-BikeRental.ipynb",
      "provenance": [],
      "collapsed_sections": [
        "M27qF7CTrBqc"
      ],
      "include_colab_link": true
    },
    "kernelspec": {
      "name": "python3",
      "display_name": "Python 3"
    }
  },
  "cells": [
    {
      "cell_type": "markdown",
      "metadata": {
        "id": "view-in-github",
        "colab_type": "text"
      },
      "source": [
        "<a href=\"https://colab.research.google.com/github/louth/actions-on-google-kotlin/blob/master/03_BikeRental.ipynb\" target=\"_parent\"><img src=\"https://colab.research.google.com/assets/colab-badge.svg\" alt=\"Open In Colab\"/></a>"
      ]
    },
    {
      "cell_type": "markdown",
      "metadata": {
        "id": "M27qF7CTrBqc"
      },
      "source": [
        "#**PROBLEM STATEMENT**"
      ]
    },
    {
      "cell_type": "markdown",
      "metadata": {
        "id": "xNl52nl3qiyL"
      },
      "source": [
        "\n",
        "---\n",
        "- Data Reference: \n",
        "    - This Hadi Fanaee-T\n",
        "    - Laboratory of Artificial Intelligence and Decision Support (LIAAD), University of Porto INESC Porto, Campus da FEUP Rua Dr. Roberto Frias, 378 4200 - 465 Porto, Portugal\n",
        "\n",
        "- Data Description: \n",
        "    - instant: record index\n",
        "    - dteday : date\n",
        "    - season : season (1:springer, 2:summer, 3:fall, 4:winter)\n",
        "    - yr : year (0: 2011, 1:2012)\n",
        "    - mnth : month ( 1 to 12)\n",
        "    - hr : hour (0 to 23)\n",
        "    - holiday : wether day is holiday or not (extracted from http://dchr.dc.gov/page/holiday-schedule)\n",
        "    - weekday : day of the week\n",
        "    - workingday : if day is neither weekend nor holiday is 1, otherwise is 0.\n",
        "    + weathersit : \n",
        "        - 1: Clear, Few clouds, Partly cloudy\n",
        "        - 2: Mist + Cloudy, Mist + Broken clouds, Mist + Few clouds, Mist\n",
        "        - 3: Light Snow, Light Rain + Thunderstorm + Scattered clouds, Light Rain + Scattered clouds\n",
        "        - 4: Heavy Rain + Ice Pallets + Thunderstorm + Mist, Snow + Fog\n",
        "    - temp : Normalized temperature in Celsius. The values are divided to 41 (max)\n",
        "    - hum: Normalized humidity. The values are divided to 100 (max)\n",
        "    - windspeed: Normalized wind speed. The values are divided to 67 (max)\n",
        "    - casual: count of casual users\n",
        "    - registered: count of registered users\n",
        "    - cnt: count of total rental bikes including both casual and registered\n",
        "\n",
        "\n",
        "---\n",
        "\n",
        "\n",
        "\n",
        "\n",
        "\n",
        "\n"
      ]
    },
    {
      "cell_type": "markdown",
      "metadata": {
        "id": "zKmFmyaGunc7"
      },
      "source": [
        "#**0. IMPORT LIBRARIES**"
      ]
    },
    {
      "cell_type": "code",
      "metadata": {
        "colab": {
          "base_uri": "https://localhost:8080/"
        },
        "id": "lyXoMCfVlIQd",
        "outputId": "26f56914-b67b-4570-d8c4-14636774eaba"
      },
      "source": [
        "import tensorflow as tf\r\n",
        "print(tf.__name__, tf.__version__)\r\n",
        "import pandas as pd \r\n",
        "print(pd.__name__, pd.__version__)\r\n",
        "import numpy as np\r\n",
        "print(np.__name__, np.__version__)\r\n",
        "import seaborn as sns \r\n",
        "print(sns.__name__, sns.__version__)\r\n",
        "import matplotlib\r\n",
        "import matplotlib.pyplot as plt \r\n",
        "print(plt.__name__, matplotlib.__version__)\r\n",
        "import sklearn\r\n",
        "from sklearn.preprocessing import OneHotEncoder\r\n",
        "from sklearn.preprocessing import MinMaxScaler\r\n",
        "from sklearn.model_selection import train_test_split\r\n",
        "print(sklearn.__name__, sklearn.__version__)"
      ],
      "execution_count": 59,
      "outputs": [
        {
          "output_type": "stream",
          "text": [
            "tensorflow 2.4.1\n",
            "pandas 1.1.5\n",
            "numpy 1.19.5\n",
            "seaborn 0.11.1\n",
            "matplotlib.pyplot 3.2.2\n",
            "sklearn 0.22.2.post1\n"
          ],
          "name": "stdout"
        }
      ]
    },
    {
      "cell_type": "code",
      "metadata": {
        "id": "p-OKKTU4nOKI"
      },
      "source": [
        "# from IPython.core.interactiveshell import InteractiveShell\r\n",
        "# InteractiveShell.ast_node_interactivity = \"all\""
      ],
      "execution_count": 30,
      "outputs": []
    },
    {
      "cell_type": "markdown",
      "metadata": {
        "id": "uAE6Icc0uylP"
      },
      "source": [
        "#**1. IMPORT DATASETS**"
      ]
    },
    {
      "cell_type": "code",
      "metadata": {
        "colab": {
          "base_uri": "https://localhost:8080/"
        },
        "id": "-muphes9lPDS",
        "outputId": "00809555-f6aa-4415-dc03-b7544c3f02ee"
      },
      "source": [
        "from google.colab import drive\n",
        "drive.mount('/content/drive')\n",
        "\n",
        "bike = pd.read_csv('/content/drive/MyDrive/data/bike_sharing_daily.csv')"
      ],
      "execution_count": 31,
      "outputs": [
        {
          "output_type": "stream",
          "text": [
            "Drive already mounted at /content/drive; to attempt to forcibly remount, call drive.mount(\"/content/drive\", force_remount=True).\n"
          ],
          "name": "stdout"
        }
      ]
    },
    {
      "cell_type": "code",
      "metadata": {
        "colab": {
          "base_uri": "https://localhost:8080/"
        },
        "id": "Hy0NFrwEm7Sy",
        "outputId": "b8a0778a-ef3b-4f71-8eca-52c95f52f3ea"
      },
      "source": [
        "bike.info()"
      ],
      "execution_count": 32,
      "outputs": [
        {
          "output_type": "stream",
          "text": [
            "<class 'pandas.core.frame.DataFrame'>\n",
            "RangeIndex: 731 entries, 0 to 730\n",
            "Data columns (total 15 columns):\n",
            " #   Column      Non-Null Count  Dtype  \n",
            "---  ------      --------------  -----  \n",
            " 0   instant     731 non-null    int64  \n",
            " 1   dteday      731 non-null    object \n",
            " 2   season      731 non-null    int64  \n",
            " 3   yr          731 non-null    int64  \n",
            " 4   mnth        731 non-null    int64  \n",
            " 5   holiday     731 non-null    int64  \n",
            " 6   weekday     731 non-null    int64  \n",
            " 7   workingday  731 non-null    int64  \n",
            " 8   weathersit  731 non-null    int64  \n",
            " 9   temp        731 non-null    float64\n",
            " 10  hum         731 non-null    float64\n",
            " 11  windspeed   731 non-null    float64\n",
            " 12  casual      731 non-null    int64  \n",
            " 13  registered  731 non-null    int64  \n",
            " 14  cnt         731 non-null    int64  \n",
            "dtypes: float64(3), int64(11), object(1)\n",
            "memory usage: 85.8+ KB\n"
          ],
          "name": "stdout"
        }
      ]
    },
    {
      "cell_type": "code",
      "metadata": {
        "colab": {
          "base_uri": "https://localhost:8080/",
          "height": 297
        },
        "id": "MWcbCvxn57w4",
        "outputId": "82e9ba22-feed-4b1e-c7c7-fd3994deb8b4"
      },
      "source": [
        "bike.describe()"
      ],
      "execution_count": 33,
      "outputs": [
        {
          "output_type": "execute_result",
          "data": {
            "text/html": [
              "<div>\n",
              "<style scoped>\n",
              "    .dataframe tbody tr th:only-of-type {\n",
              "        vertical-align: middle;\n",
              "    }\n",
              "\n",
              "    .dataframe tbody tr th {\n",
              "        vertical-align: top;\n",
              "    }\n",
              "\n",
              "    .dataframe thead th {\n",
              "        text-align: right;\n",
              "    }\n",
              "</style>\n",
              "<table border=\"1\" class=\"dataframe\">\n",
              "  <thead>\n",
              "    <tr style=\"text-align: right;\">\n",
              "      <th></th>\n",
              "      <th>instant</th>\n",
              "      <th>season</th>\n",
              "      <th>yr</th>\n",
              "      <th>mnth</th>\n",
              "      <th>holiday</th>\n",
              "      <th>weekday</th>\n",
              "      <th>workingday</th>\n",
              "      <th>weathersit</th>\n",
              "      <th>temp</th>\n",
              "      <th>hum</th>\n",
              "      <th>windspeed</th>\n",
              "      <th>casual</th>\n",
              "      <th>registered</th>\n",
              "      <th>cnt</th>\n",
              "    </tr>\n",
              "  </thead>\n",
              "  <tbody>\n",
              "    <tr>\n",
              "      <th>count</th>\n",
              "      <td>731.000000</td>\n",
              "      <td>731.000000</td>\n",
              "      <td>731.000000</td>\n",
              "      <td>731.000000</td>\n",
              "      <td>731.000000</td>\n",
              "      <td>731.000000</td>\n",
              "      <td>731.000000</td>\n",
              "      <td>731.000000</td>\n",
              "      <td>731.000000</td>\n",
              "      <td>731.000000</td>\n",
              "      <td>731.000000</td>\n",
              "      <td>731.000000</td>\n",
              "      <td>731.000000</td>\n",
              "      <td>731.000000</td>\n",
              "    </tr>\n",
              "    <tr>\n",
              "      <th>mean</th>\n",
              "      <td>366.000000</td>\n",
              "      <td>2.496580</td>\n",
              "      <td>0.500684</td>\n",
              "      <td>6.519836</td>\n",
              "      <td>0.028728</td>\n",
              "      <td>2.997264</td>\n",
              "      <td>0.683995</td>\n",
              "      <td>1.395349</td>\n",
              "      <td>0.495385</td>\n",
              "      <td>0.627894</td>\n",
              "      <td>0.190486</td>\n",
              "      <td>848.176471</td>\n",
              "      <td>3656.172367</td>\n",
              "      <td>4504.348837</td>\n",
              "    </tr>\n",
              "    <tr>\n",
              "      <th>std</th>\n",
              "      <td>211.165812</td>\n",
              "      <td>1.110807</td>\n",
              "      <td>0.500342</td>\n",
              "      <td>3.451913</td>\n",
              "      <td>0.167155</td>\n",
              "      <td>2.004787</td>\n",
              "      <td>0.465233</td>\n",
              "      <td>0.544894</td>\n",
              "      <td>0.183051</td>\n",
              "      <td>0.142429</td>\n",
              "      <td>0.077498</td>\n",
              "      <td>686.622488</td>\n",
              "      <td>1560.256377</td>\n",
              "      <td>1937.211452</td>\n",
              "    </tr>\n",
              "    <tr>\n",
              "      <th>min</th>\n",
              "      <td>1.000000</td>\n",
              "      <td>1.000000</td>\n",
              "      <td>0.000000</td>\n",
              "      <td>1.000000</td>\n",
              "      <td>0.000000</td>\n",
              "      <td>0.000000</td>\n",
              "      <td>0.000000</td>\n",
              "      <td>1.000000</td>\n",
              "      <td>0.059130</td>\n",
              "      <td>0.000000</td>\n",
              "      <td>0.022392</td>\n",
              "      <td>2.000000</td>\n",
              "      <td>20.000000</td>\n",
              "      <td>22.000000</td>\n",
              "    </tr>\n",
              "    <tr>\n",
              "      <th>25%</th>\n",
              "      <td>183.500000</td>\n",
              "      <td>2.000000</td>\n",
              "      <td>0.000000</td>\n",
              "      <td>4.000000</td>\n",
              "      <td>0.000000</td>\n",
              "      <td>1.000000</td>\n",
              "      <td>0.000000</td>\n",
              "      <td>1.000000</td>\n",
              "      <td>0.337083</td>\n",
              "      <td>0.520000</td>\n",
              "      <td>0.134950</td>\n",
              "      <td>315.500000</td>\n",
              "      <td>2497.000000</td>\n",
              "      <td>3152.000000</td>\n",
              "    </tr>\n",
              "    <tr>\n",
              "      <th>50%</th>\n",
              "      <td>366.000000</td>\n",
              "      <td>3.000000</td>\n",
              "      <td>1.000000</td>\n",
              "      <td>7.000000</td>\n",
              "      <td>0.000000</td>\n",
              "      <td>3.000000</td>\n",
              "      <td>1.000000</td>\n",
              "      <td>1.000000</td>\n",
              "      <td>0.498333</td>\n",
              "      <td>0.626667</td>\n",
              "      <td>0.180975</td>\n",
              "      <td>713.000000</td>\n",
              "      <td>3662.000000</td>\n",
              "      <td>4548.000000</td>\n",
              "    </tr>\n",
              "    <tr>\n",
              "      <th>75%</th>\n",
              "      <td>548.500000</td>\n",
              "      <td>3.000000</td>\n",
              "      <td>1.000000</td>\n",
              "      <td>10.000000</td>\n",
              "      <td>0.000000</td>\n",
              "      <td>5.000000</td>\n",
              "      <td>1.000000</td>\n",
              "      <td>2.000000</td>\n",
              "      <td>0.655417</td>\n",
              "      <td>0.730209</td>\n",
              "      <td>0.233214</td>\n",
              "      <td>1096.000000</td>\n",
              "      <td>4776.500000</td>\n",
              "      <td>5956.000000</td>\n",
              "    </tr>\n",
              "    <tr>\n",
              "      <th>max</th>\n",
              "      <td>731.000000</td>\n",
              "      <td>4.000000</td>\n",
              "      <td>1.000000</td>\n",
              "      <td>12.000000</td>\n",
              "      <td>1.000000</td>\n",
              "      <td>6.000000</td>\n",
              "      <td>1.000000</td>\n",
              "      <td>3.000000</td>\n",
              "      <td>0.861667</td>\n",
              "      <td>0.972500</td>\n",
              "      <td>0.507463</td>\n",
              "      <td>3410.000000</td>\n",
              "      <td>6946.000000</td>\n",
              "      <td>8714.000000</td>\n",
              "    </tr>\n",
              "  </tbody>\n",
              "</table>\n",
              "</div>"
            ],
            "text/plain": [
              "          instant      season  ...   registered          cnt\n",
              "count  731.000000  731.000000  ...   731.000000   731.000000\n",
              "mean   366.000000    2.496580  ...  3656.172367  4504.348837\n",
              "std    211.165812    1.110807  ...  1560.256377  1937.211452\n",
              "min      1.000000    1.000000  ...    20.000000    22.000000\n",
              "25%    183.500000    2.000000  ...  2497.000000  3152.000000\n",
              "50%    366.000000    3.000000  ...  3662.000000  4548.000000\n",
              "75%    548.500000    3.000000  ...  4776.500000  5956.000000\n",
              "max    731.000000    4.000000  ...  6946.000000  8714.000000\n",
              "\n",
              "[8 rows x 14 columns]"
            ]
          },
          "metadata": {
            "tags": []
          },
          "execution_count": 33
        }
      ]
    },
    {
      "cell_type": "markdown",
      "metadata": {
        "id": "LlszUhNNyrl_"
      },
      "source": [
        "#**2. CLEAN UP DATASET**"
      ]
    },
    {
      "cell_type": "markdown",
      "metadata": {
        "id": "KEVprU2X4e4w"
      },
      "source": [
        "**2.1 Check for nulls** "
      ]
    },
    {
      "cell_type": "code",
      "metadata": {
        "id": "lK53T25pmoh6"
      },
      "source": [
        "#sns.heatmap(bike.isnull())"
      ],
      "execution_count": 34,
      "outputs": []
    },
    {
      "cell_type": "markdown",
      "metadata": {
        "id": "9BjPn6n24xHs"
      },
      "source": [
        "**2.2 Remove/Reformat data**"
      ]
    },
    {
      "cell_type": "code",
      "metadata": {
        "id": "VL8lbdBqoSOB"
      },
      "source": [
        "bike = bike.drop(labels=['instant'], axis = 1)"
      ],
      "execution_count": 35,
      "outputs": []
    },
    {
      "cell_type": "code",
      "metadata": {
        "id": "aQV7wELCoxuk"
      },
      "source": [
        "bike = bike.drop(labels=['casual', 'registered'], axis = 1)"
      ],
      "execution_count": 36,
      "outputs": []
    },
    {
      "cell_type": "code",
      "metadata": {
        "id": "9_y6yGT7o8mI"
      },
      "source": [
        "bike.dteday = pd.to_datetime(bike.dteday, format='%m/%d/%Y')"
      ],
      "execution_count": 37,
      "outputs": []
    },
    {
      "cell_type": "code",
      "metadata": {
        "id": "PLgr7Eg9pkCR"
      },
      "source": [
        "bike.index = pd.DatetimeIndex(bike.dteday)"
      ],
      "execution_count": 38,
      "outputs": []
    },
    {
      "cell_type": "code",
      "metadata": {
        "id": "V5-hjHZbp7P1"
      },
      "source": [
        "bike = bike.drop(labels=['dteday'], axis = 1)"
      ],
      "execution_count": 39,
      "outputs": []
    },
    {
      "cell_type": "code",
      "metadata": {
        "colab": {
          "base_uri": "https://localhost:8080/",
          "height": 450
        },
        "id": "HCDT0iwOok2V",
        "outputId": "648790c4-b804-44cc-81ec-d4a35191e09d"
      },
      "source": [
        "bike"
      ],
      "execution_count": 40,
      "outputs": [
        {
          "output_type": "execute_result",
          "data": {
            "text/html": [
              "<div>\n",
              "<style scoped>\n",
              "    .dataframe tbody tr th:only-of-type {\n",
              "        vertical-align: middle;\n",
              "    }\n",
              "\n",
              "    .dataframe tbody tr th {\n",
              "        vertical-align: top;\n",
              "    }\n",
              "\n",
              "    .dataframe thead th {\n",
              "        text-align: right;\n",
              "    }\n",
              "</style>\n",
              "<table border=\"1\" class=\"dataframe\">\n",
              "  <thead>\n",
              "    <tr style=\"text-align: right;\">\n",
              "      <th></th>\n",
              "      <th>season</th>\n",
              "      <th>yr</th>\n",
              "      <th>mnth</th>\n",
              "      <th>holiday</th>\n",
              "      <th>weekday</th>\n",
              "      <th>workingday</th>\n",
              "      <th>weathersit</th>\n",
              "      <th>temp</th>\n",
              "      <th>hum</th>\n",
              "      <th>windspeed</th>\n",
              "      <th>cnt</th>\n",
              "    </tr>\n",
              "    <tr>\n",
              "      <th>dteday</th>\n",
              "      <th></th>\n",
              "      <th></th>\n",
              "      <th></th>\n",
              "      <th></th>\n",
              "      <th></th>\n",
              "      <th></th>\n",
              "      <th></th>\n",
              "      <th></th>\n",
              "      <th></th>\n",
              "      <th></th>\n",
              "      <th></th>\n",
              "    </tr>\n",
              "  </thead>\n",
              "  <tbody>\n",
              "    <tr>\n",
              "      <th>2011-01-01</th>\n",
              "      <td>1</td>\n",
              "      <td>0</td>\n",
              "      <td>1</td>\n",
              "      <td>0</td>\n",
              "      <td>6</td>\n",
              "      <td>0</td>\n",
              "      <td>2</td>\n",
              "      <td>0.344167</td>\n",
              "      <td>0.805833</td>\n",
              "      <td>0.160446</td>\n",
              "      <td>985</td>\n",
              "    </tr>\n",
              "    <tr>\n",
              "      <th>2011-01-02</th>\n",
              "      <td>1</td>\n",
              "      <td>0</td>\n",
              "      <td>1</td>\n",
              "      <td>0</td>\n",
              "      <td>0</td>\n",
              "      <td>0</td>\n",
              "      <td>2</td>\n",
              "      <td>0.363478</td>\n",
              "      <td>0.696087</td>\n",
              "      <td>0.248539</td>\n",
              "      <td>801</td>\n",
              "    </tr>\n",
              "    <tr>\n",
              "      <th>2011-01-03</th>\n",
              "      <td>1</td>\n",
              "      <td>0</td>\n",
              "      <td>1</td>\n",
              "      <td>0</td>\n",
              "      <td>1</td>\n",
              "      <td>1</td>\n",
              "      <td>1</td>\n",
              "      <td>0.196364</td>\n",
              "      <td>0.437273</td>\n",
              "      <td>0.248309</td>\n",
              "      <td>1349</td>\n",
              "    </tr>\n",
              "    <tr>\n",
              "      <th>2011-01-04</th>\n",
              "      <td>1</td>\n",
              "      <td>0</td>\n",
              "      <td>1</td>\n",
              "      <td>0</td>\n",
              "      <td>2</td>\n",
              "      <td>1</td>\n",
              "      <td>1</td>\n",
              "      <td>0.200000</td>\n",
              "      <td>0.590435</td>\n",
              "      <td>0.160296</td>\n",
              "      <td>1562</td>\n",
              "    </tr>\n",
              "    <tr>\n",
              "      <th>2011-01-05</th>\n",
              "      <td>1</td>\n",
              "      <td>0</td>\n",
              "      <td>1</td>\n",
              "      <td>0</td>\n",
              "      <td>3</td>\n",
              "      <td>1</td>\n",
              "      <td>1</td>\n",
              "      <td>0.226957</td>\n",
              "      <td>0.436957</td>\n",
              "      <td>0.186900</td>\n",
              "      <td>1600</td>\n",
              "    </tr>\n",
              "    <tr>\n",
              "      <th>...</th>\n",
              "      <td>...</td>\n",
              "      <td>...</td>\n",
              "      <td>...</td>\n",
              "      <td>...</td>\n",
              "      <td>...</td>\n",
              "      <td>...</td>\n",
              "      <td>...</td>\n",
              "      <td>...</td>\n",
              "      <td>...</td>\n",
              "      <td>...</td>\n",
              "      <td>...</td>\n",
              "    </tr>\n",
              "    <tr>\n",
              "      <th>2012-12-27</th>\n",
              "      <td>1</td>\n",
              "      <td>1</td>\n",
              "      <td>12</td>\n",
              "      <td>0</td>\n",
              "      <td>4</td>\n",
              "      <td>1</td>\n",
              "      <td>2</td>\n",
              "      <td>0.254167</td>\n",
              "      <td>0.652917</td>\n",
              "      <td>0.350133</td>\n",
              "      <td>2114</td>\n",
              "    </tr>\n",
              "    <tr>\n",
              "      <th>2012-12-28</th>\n",
              "      <td>1</td>\n",
              "      <td>1</td>\n",
              "      <td>12</td>\n",
              "      <td>0</td>\n",
              "      <td>5</td>\n",
              "      <td>1</td>\n",
              "      <td>2</td>\n",
              "      <td>0.253333</td>\n",
              "      <td>0.590000</td>\n",
              "      <td>0.155471</td>\n",
              "      <td>3095</td>\n",
              "    </tr>\n",
              "    <tr>\n",
              "      <th>2012-12-29</th>\n",
              "      <td>1</td>\n",
              "      <td>1</td>\n",
              "      <td>12</td>\n",
              "      <td>0</td>\n",
              "      <td>6</td>\n",
              "      <td>0</td>\n",
              "      <td>2</td>\n",
              "      <td>0.253333</td>\n",
              "      <td>0.752917</td>\n",
              "      <td>0.124383</td>\n",
              "      <td>1341</td>\n",
              "    </tr>\n",
              "    <tr>\n",
              "      <th>2012-12-30</th>\n",
              "      <td>1</td>\n",
              "      <td>1</td>\n",
              "      <td>12</td>\n",
              "      <td>0</td>\n",
              "      <td>0</td>\n",
              "      <td>0</td>\n",
              "      <td>1</td>\n",
              "      <td>0.255833</td>\n",
              "      <td>0.483333</td>\n",
              "      <td>0.350754</td>\n",
              "      <td>1796</td>\n",
              "    </tr>\n",
              "    <tr>\n",
              "      <th>2012-12-31</th>\n",
              "      <td>1</td>\n",
              "      <td>1</td>\n",
              "      <td>12</td>\n",
              "      <td>0</td>\n",
              "      <td>1</td>\n",
              "      <td>1</td>\n",
              "      <td>2</td>\n",
              "      <td>0.215833</td>\n",
              "      <td>0.577500</td>\n",
              "      <td>0.154846</td>\n",
              "      <td>2729</td>\n",
              "    </tr>\n",
              "  </tbody>\n",
              "</table>\n",
              "<p>731 rows × 11 columns</p>\n",
              "</div>"
            ],
            "text/plain": [
              "            season  yr  mnth  holiday  ...      temp       hum  windspeed   cnt\n",
              "dteday                                 ...                                     \n",
              "2011-01-01       1   0     1        0  ...  0.344167  0.805833   0.160446   985\n",
              "2011-01-02       1   0     1        0  ...  0.363478  0.696087   0.248539   801\n",
              "2011-01-03       1   0     1        0  ...  0.196364  0.437273   0.248309  1349\n",
              "2011-01-04       1   0     1        0  ...  0.200000  0.590435   0.160296  1562\n",
              "2011-01-05       1   0     1        0  ...  0.226957  0.436957   0.186900  1600\n",
              "...            ...  ..   ...      ...  ...       ...       ...        ...   ...\n",
              "2012-12-27       1   1    12        0  ...  0.254167  0.652917   0.350133  2114\n",
              "2012-12-28       1   1    12        0  ...  0.253333  0.590000   0.155471  3095\n",
              "2012-12-29       1   1    12        0  ...  0.253333  0.752917   0.124383  1341\n",
              "2012-12-30       1   1    12        0  ...  0.255833  0.483333   0.350754  1796\n",
              "2012-12-31       1   1    12        0  ...  0.215833  0.577500   0.154846  2729\n",
              "\n",
              "[731 rows x 11 columns]"
            ]
          },
          "metadata": {
            "tags": []
          },
          "execution_count": 40
        }
      ]
    },
    {
      "cell_type": "markdown",
      "metadata": {
        "id": "Y0GmpAjG3GiH"
      },
      "source": [
        "#**3. VISUALIZE DATASET**"
      ]
    },
    {
      "cell_type": "code",
      "metadata": {
        "colab": {
          "base_uri": "https://localhost:8080/",
          "height": 324
        },
        "id": "3cOiNl1a44gv",
        "outputId": "7fd79858-d3d7-4567-e171-d3cfb724bc5a"
      },
      "source": [
        "bike['cnt'].asfreq('W').plot(linewidth = 3)\r\n",
        "plt.title('Bike Usage Per Week')\r\n",
        "plt.xlabel('Week')\r\n",
        "plt.ylabel('Bike Rental')"
      ],
      "execution_count": 41,
      "outputs": [
        {
          "output_type": "execute_result",
          "data": {
            "text/plain": [
              "Text(0, 0.5, 'Bike Rental')"
            ]
          },
          "metadata": {
            "tags": []
          },
          "execution_count": 41
        },
        {
          "output_type": "display_data",
          "data": {
            "image/png": "[encoded data removed]",
            "text/plain": [
              "<Figure size 432x288 with 1 Axes>"
            ]
          },
          "metadata": {
            "tags": [],
            "needs_background": "light"
          }
        }
      ]
    },
    {
      "cell_type": "code",
      "metadata": {
        "id": "Pqq7kJAa45GD"
      },
      "source": [
        "x_numerical = bike[['temp','hum','windspeed', 'cnt']]"
      ],
      "execution_count": 42,
      "outputs": []
    },
    {
      "cell_type": "code",
      "metadata": {
        "colab": {
          "base_uri": "https://localhost:8080/",
          "height": 450
        },
        "id": "mXkB0Qrx446r",
        "outputId": "89db1a15-8b4f-4788-e7c5-97237d7e47da"
      },
      "source": [
        "x_numerical"
      ],
      "execution_count": 43,
      "outputs": [
        {
          "output_type": "execute_result",
          "data": {
            "text/html": [
              "<div>\n",
              "<style scoped>\n",
              "    .dataframe tbody tr th:only-of-type {\n",
              "        vertical-align: middle;\n",
              "    }\n",
              "\n",
              "    .dataframe tbody tr th {\n",
              "        vertical-align: top;\n",
              "    }\n",
              "\n",
              "    .dataframe thead th {\n",
              "        text-align: right;\n",
              "    }\n",
              "</style>\n",
              "<table border=\"1\" class=\"dataframe\">\n",
              "  <thead>\n",
              "    <tr style=\"text-align: right;\">\n",
              "      <th></th>\n",
              "      <th>temp</th>\n",
              "      <th>hum</th>\n",
              "      <th>windspeed</th>\n",
              "      <th>cnt</th>\n",
              "    </tr>\n",
              "    <tr>\n",
              "      <th>dteday</th>\n",
              "      <th></th>\n",
              "      <th></th>\n",
              "      <th></th>\n",
              "      <th></th>\n",
              "    </tr>\n",
              "  </thead>\n",
              "  <tbody>\n",
              "    <tr>\n",
              "      <th>2011-01-01</th>\n",
              "      <td>0.344167</td>\n",
              "      <td>0.805833</td>\n",
              "      <td>0.160446</td>\n",
              "      <td>985</td>\n",
              "    </tr>\n",
              "    <tr>\n",
              "      <th>2011-01-02</th>\n",
              "      <td>0.363478</td>\n",
              "      <td>0.696087</td>\n",
              "      <td>0.248539</td>\n",
              "      <td>801</td>\n",
              "    </tr>\n",
              "    <tr>\n",
              "      <th>2011-01-03</th>\n",
              "      <td>0.196364</td>\n",
              "      <td>0.437273</td>\n",
              "      <td>0.248309</td>\n",
              "      <td>1349</td>\n",
              "    </tr>\n",
              "    <tr>\n",
              "      <th>2011-01-04</th>\n",
              "      <td>0.200000</td>\n",
              "      <td>0.590435</td>\n",
              "      <td>0.160296</td>\n",
              "      <td>1562</td>\n",
              "    </tr>\n",
              "    <tr>\n",
              "      <th>2011-01-05</th>\n",
              "      <td>0.226957</td>\n",
              "      <td>0.436957</td>\n",
              "      <td>0.186900</td>\n",
              "      <td>1600</td>\n",
              "    </tr>\n",
              "    <tr>\n",
              "      <th>...</th>\n",
              "      <td>...</td>\n",
              "      <td>...</td>\n",
              "      <td>...</td>\n",
              "      <td>...</td>\n",
              "    </tr>\n",
              "    <tr>\n",
              "      <th>2012-12-27</th>\n",
              "      <td>0.254167</td>\n",
              "      <td>0.652917</td>\n",
              "      <td>0.350133</td>\n",
              "      <td>2114</td>\n",
              "    </tr>\n",
              "    <tr>\n",
              "      <th>2012-12-28</th>\n",
              "      <td>0.253333</td>\n",
              "      <td>0.590000</td>\n",
              "      <td>0.155471</td>\n",
              "      <td>3095</td>\n",
              "    </tr>\n",
              "    <tr>\n",
              "      <th>2012-12-29</th>\n",
              "      <td>0.253333</td>\n",
              "      <td>0.752917</td>\n",
              "      <td>0.124383</td>\n",
              "      <td>1341</td>\n",
              "    </tr>\n",
              "    <tr>\n",
              "      <th>2012-12-30</th>\n",
              "      <td>0.255833</td>\n",
              "      <td>0.483333</td>\n",
              "      <td>0.350754</td>\n",
              "      <td>1796</td>\n",
              "    </tr>\n",
              "    <tr>\n",
              "      <th>2012-12-31</th>\n",
              "      <td>0.215833</td>\n",
              "      <td>0.577500</td>\n",
              "      <td>0.154846</td>\n",
              "      <td>2729</td>\n",
              "    </tr>\n",
              "  </tbody>\n",
              "</table>\n",
              "<p>731 rows × 4 columns</p>\n",
              "</div>"
            ],
            "text/plain": [
              "                temp       hum  windspeed   cnt\n",
              "dteday                                         \n",
              "2011-01-01  0.344167  0.805833   0.160446   985\n",
              "2011-01-02  0.363478  0.696087   0.248539   801\n",
              "2011-01-03  0.196364  0.437273   0.248309  1349\n",
              "2011-01-04  0.200000  0.590435   0.160296  1562\n",
              "2011-01-05  0.226957  0.436957   0.186900  1600\n",
              "...              ...       ...        ...   ...\n",
              "2012-12-27  0.254167  0.652917   0.350133  2114\n",
              "2012-12-28  0.253333  0.590000   0.155471  3095\n",
              "2012-12-29  0.253333  0.752917   0.124383  1341\n",
              "2012-12-30  0.255833  0.483333   0.350754  1796\n",
              "2012-12-31  0.215833  0.577500   0.154846  2729\n",
              "\n",
              "[731 rows x 4 columns]"
            ]
          },
          "metadata": {
            "tags": []
          },
          "execution_count": 43
        }
      ]
    },
    {
      "cell_type": "code",
      "metadata": {
        "colab": {
          "base_uri": "https://localhost:8080/",
          "height": 743
        },
        "id": "mUL8FQCS8dpE",
        "outputId": "69af4b57-529e-4202-b37b-24516fd0fdb8"
      },
      "source": [
        "sns.pairplot(x_numerical)"
      ],
      "execution_count": 44,
      "outputs": [
        {
          "output_type": "execute_result",
          "data": {
            "text/plain": [
              "<seaborn.axisgrid.PairGrid at 0x7f973c37e3c8>"
            ]
          },
          "metadata": {
            "tags": []
          },
          "execution_count": 44
        },
        {
          "output_type": "display_data",
          "data": {
            "image/png": "[encoded data removed]",
            "text/plain": [
              "<Figure size 720x720 with 20 Axes>"
            ]
          },
          "metadata": {
            "tags": [],
            "needs_background": "light"
          }
        }
      ]
    },
    {
      "cell_type": "code",
      "metadata": {
        "colab": {
          "base_uri": "https://localhost:8080/",
          "height": 286
        },
        "id": "RYDIPL2-9B7Z",
        "outputId": "3c70a3d1-fe74-45aa-8096-91564dd35ec4"
      },
      "source": [
        "sns.heatmap(x_numerical.corr(), annot=True)"
      ],
      "execution_count": 45,
      "outputs": [
        {
          "output_type": "execute_result",
          "data": {
            "text/plain": [
              "<matplotlib.axes._subplots.AxesSubplot at 0x7f973deef5c0>"
            ]
          },
          "metadata": {
            "tags": []
          },
          "execution_count": 45
        },
        {
          "output_type": "display_data",
          "data": {
            "image/png": "[encoded data removed]",
            "text/plain": [
              "<Figure size 432x288 with 2 Axes>"
            ]
          },
          "metadata": {
            "tags": [],
            "needs_background": "light"
          }
        }
      ]
    },
    {
      "cell_type": "code",
      "metadata": {
        "id": "petZqUc2sQic"
      },
      "source": [
        "x_cat = bike[['season','yr','mnth','holiday','weekday','workingday','weathersit']]"
      ],
      "execution_count": 46,
      "outputs": []
    },
    {
      "cell_type": "code",
      "metadata": {
        "colab": {
          "base_uri": "https://localhost:8080/"
        },
        "id": "5JRWEmIzsQgC",
        "outputId": "f316c330-4c49-4d3e-b29f-eff7ea2a7d64"
      },
      "source": [
        "encoder = OneHotEncoder()\n",
        "x_cat = encoder.fit_transform(x_cat).toarray()\n",
        "x_cat = pd.DataFrame(x_cat)\n",
        "x_cat.shape\n"
      ],
      "execution_count": 47,
      "outputs": [
        {
          "output_type": "execute_result",
          "data": {
            "text/plain": [
              "(731, 32)"
            ]
          },
          "metadata": {
            "tags": []
          },
          "execution_count": 47
        }
      ]
    },
    {
      "cell_type": "code",
      "metadata": {
        "id": "hoUWROnmt3o0"
      },
      "source": [
        "x_numerical = x_numerical.reset_index()\n"
      ],
      "execution_count": 48,
      "outputs": []
    },
    {
      "cell_type": "code",
      "metadata": {
        "colab": {
          "base_uri": "https://localhost:8080/"
        },
        "id": "TwdUnpQTw4QI",
        "outputId": "139407b9-47ab-4921-cfef-0942218a3c2d"
      },
      "source": [
        "x_numerical.shape"
      ],
      "execution_count": 49,
      "outputs": [
        {
          "output_type": "execute_result",
          "data": {
            "text/plain": [
              "(731, 5)"
            ]
          },
          "metadata": {
            "tags": []
          },
          "execution_count": 49
        }
      ]
    },
    {
      "cell_type": "code",
      "metadata": {
        "colab": {
          "base_uri": "https://localhost:8080/"
        },
        "id": "9TKcWu2zv_kv",
        "outputId": "2ccaa4b3-6314-417b-ec42-027cf5b9d638"
      },
      "source": [
        "x_all = pd.concat([x_cat, x_numerical], axis=1)\n",
        "x_all.shape"
      ],
      "execution_count": 50,
      "outputs": [
        {
          "output_type": "execute_result",
          "data": {
            "text/plain": [
              "(731, 37)"
            ]
          },
          "metadata": {
            "tags": []
          },
          "execution_count": 50
        }
      ]
    },
    {
      "cell_type": "code",
      "metadata": {
        "id": "KDCe-VsUzhYg"
      },
      "source": [
        "x_all = x_all.drop('dteday', axis = 1)"
      ],
      "execution_count": 51,
      "outputs": []
    },
    {
      "cell_type": "code",
      "metadata": {
        "colab": {
          "base_uri": "https://localhost:8080/"
        },
        "id": "wC0tLoJOz0Dl",
        "outputId": "809b5eb3-dfd2-4fe0-c7d4-3a971e677653"
      },
      "source": [
        "x_all.shape"
      ],
      "execution_count": 52,
      "outputs": [
        {
          "output_type": "execute_result",
          "data": {
            "text/plain": [
              "(731, 36)"
            ]
          },
          "metadata": {
            "tags": []
          },
          "execution_count": 52
        }
      ]
    },
    {
      "cell_type": "markdown",
      "metadata": {
        "id": "53qDZFRn3-S1"
      },
      "source": [
        "#**4. CREATE TRAINING AND TESTING DATASET**\r\n"
      ]
    },
    {
      "cell_type": "code",
      "metadata": {
        "id": "m0ldN0ta0NAk"
      },
      "source": [
        "x = x_all.iloc[:,:-1].values\n",
        "y = x_all.iloc[:,-1:].values"
      ],
      "execution_count": 54,
      "outputs": []
    },
    {
      "cell_type": "code",
      "metadata": {
        "id": "CNkXXAPx0-E7"
      },
      "source": [
        "scaler = MinMaxScaler()\n",
        "y = scaler.fit_transform(y)"
      ],
      "execution_count": 56,
      "outputs": []
    },
    {
      "cell_type": "code",
      "metadata": {
        "colab": {
          "base_uri": "https://localhost:8080/"
        },
        "id": "1jRXFEnx1J17",
        "outputId": "5d4edc9e-9f21-4b67-f37b-6fcf6bb4bf1c"
      },
      "source": [
        "y"
      ],
      "execution_count": 58,
      "outputs": [
        {
          "output_type": "execute_result",
          "data": {
            "text/plain": [
              "array([[0.11079153],\n",
              "       [0.08962264],\n",
              "       [0.15266912],\n",
              "       [0.17717441],\n",
              "       [0.18154625],\n",
              "       [0.18223654],\n",
              "       [0.1711919 ],\n",
              "       [0.10780028],\n",
              "       [0.09203866],\n",
              "       [0.14944777],\n",
              "       [0.14277497],\n",
              "       [0.13115509],\n",
              "       [0.15922688],\n",
              "       [0.1609526 ],\n",
              "       [0.14104924],\n",
              "       [0.13598711],\n",
              "       [0.11251726],\n",
              "       [0.07604694],\n",
              "       [0.18729867],\n",
              "       [0.21916705],\n",
              "       [0.1749885 ],\n",
              "       [0.11033134],\n",
              "       [0.11090658],\n",
              "       [0.16037736],\n",
              "       [0.22583985],\n",
              "       [0.05568339],\n",
              "       [0.04705476],\n",
              "       [0.13173033],\n",
              "       [0.12379199],\n",
              "       [0.1235619 ],\n",
              "       [0.17015647],\n",
              "       [0.15393465],\n",
              "       [0.17303267],\n",
              "       [0.17579383],\n",
              "       [0.19397147],\n",
              "       [0.1130925 ],\n",
              "       [0.18419236],\n",
              "       [0.19443166],\n",
              "       [0.17349287],\n",
              "       [0.18212149],\n",
              "       [0.17441325],\n",
              "       [0.1983433 ],\n",
              "       [0.16682006],\n",
              "       [0.18028072],\n",
              "       [0.21755637],\n",
              "       [0.20628164],\n",
              "       [0.24079613],\n",
              "       [0.28221353],\n",
              "       [0.33421537],\n",
              "       [0.18557294],\n",
              "       [0.20593649],\n",
              "       [0.12482743],\n",
              "       [0.164289  ],\n",
              "       [0.21801657],\n",
              "       [0.20536125],\n",
              "       [0.16555453],\n",
              "       [0.22399908],\n",
              "       [0.273815  ],\n",
              "       [0.16382881],\n",
              "       [0.21042338],\n",
              "       [0.24298205],\n",
              "       [0.19132536],\n",
              "       [0.22112287],\n",
              "       [0.2364243 ],\n",
              "       [0.06707317],\n",
              "       [0.21283939],\n",
              "       [0.242867  ],\n",
              "       [0.21502531],\n",
              "       [0.06914404],\n",
              "       [0.22491947],\n",
              "       [0.24275196],\n",
              "       [0.27554073],\n",
              "       [0.2328578 ],\n",
              "       [0.23400828],\n",
              "       [0.24965486],\n",
              "       [0.31316153],\n",
              "       [0.37011045],\n",
              "       [0.35607455],\n",
              "       [0.28175334],\n",
              "       [0.2364243 ],\n",
              "       [0.30844455],\n",
              "       [0.24148642],\n",
              "       [0.21203405],\n",
              "       [0.25172572],\n",
              "       [0.28462954],\n",
              "       [0.19224574],\n",
              "       [0.23078693],\n",
              "       [0.27646111],\n",
              "       [0.17418316],\n",
              "       [0.19132536],\n",
              "       [0.25368155],\n",
              "       [0.25655775],\n",
              "       [0.37126093],\n",
              "       [0.35584445],\n",
              "       [0.20398067],\n",
              "       [0.32052462],\n",
              "       [0.35883571],\n",
              "       [0.16670502],\n",
              "       [0.27991256],\n",
              "       [0.33053382],\n",
              "       [0.38265071],\n",
              "       [0.23147722],\n",
              "       [0.24620341],\n",
              "       [0.3733318 ],\n",
              "       [0.35710999],\n",
              "       [0.08893235],\n",
              "       [0.42820985],\n",
              "       [0.39196963],\n",
              "       [0.36608376],\n",
              "       [0.45121951],\n",
              "       [0.47940635],\n",
              "       [0.19109526],\n",
              "       [0.46180396],\n",
              "       [0.47963645],\n",
              "       [0.46606075],\n",
              "       [0.50368155],\n",
              "       [0.44293603],\n",
              "       [0.46433502],\n",
              "       [0.52611597],\n",
              "       [0.60860561],\n",
              "       [0.38299586],\n",
              "       [0.50379659],\n",
              "       [0.50954901],\n",
              "       [0.30039116],\n",
              "       [0.50747814],\n",
              "       [0.5276116 ],\n",
              "       [0.53980672],\n",
              "       [0.49597331],\n",
              "       [0.49930971],\n",
              "       [0.55004602],\n",
              "       [0.47860101],\n",
              "       [0.55706397],\n",
              "       [0.46974229],\n",
              "       [0.38966866],\n",
              "       [0.52128394],\n",
              "       [0.45283019],\n",
              "       [0.47181316],\n",
              "       [0.44098021],\n",
              "       [0.523815  ],\n",
              "       [0.56316153],\n",
              "       [0.66532444],\n",
              "       [0.53359411],\n",
              "       [0.48918546],\n",
              "       [0.51426599],\n",
              "       [0.57017948],\n",
              "       [0.53554993],\n",
              "       [0.53578003],\n",
              "       [0.54486884],\n",
              "       [0.54832029],\n",
              "       [0.46893695],\n",
              "       [0.45559135],\n",
              "       [0.45467096],\n",
              "       [0.56902899],\n",
              "       [0.60860561],\n",
              "       [0.61205706],\n",
              "       [0.561896  ],\n",
              "       [0.5207087 ],\n",
              "       [0.55349747],\n",
              "       [0.50379659],\n",
              "       [0.44788311],\n",
              "       [0.52508053],\n",
              "       [0.5687989 ],\n",
              "       [0.51058445],\n",
              "       [0.5750115 ],\n",
              "       [0.56017027],\n",
              "       [0.59341924],\n",
              "       [0.43085596],\n",
              "       [0.554763  ],\n",
              "       [0.58640129],\n",
              "       [0.54325817],\n",
              "       [0.4588127 ],\n",
              "       [0.55372757],\n",
              "       [0.51599172],\n",
              "       [0.54855039],\n",
              "       [0.5716751 ],\n",
              "       [0.5959503 ],\n",
              "       [0.60780028],\n",
              "       [0.53911643],\n",
              "       [0.53221353],\n",
              "       [0.59859641],\n",
              "       [0.63196042],\n",
              "       [0.61435803],\n",
              "       [0.58640129],\n",
              "       [0.53232858],\n",
              "       [0.69270594],\n",
              "       [0.53416935],\n",
              "       [0.53002761],\n",
              "       [0.52577082],\n",
              "       [0.46226415],\n",
              "       [0.61136677],\n",
              "       [0.55901979],\n",
              "       [0.46755637],\n",
              "       [0.48734468],\n",
              "       [0.49700874],\n",
              "       [0.5823746 ],\n",
              "       [0.63460653],\n",
              "       [0.67890014],\n",
              "       [0.60745513],\n",
              "       [0.51035435],\n",
              "       [0.51990336],\n",
              "       [0.49585826],\n",
              "       [0.43281178],\n",
              "       [0.3871376 ],\n",
              "       [0.37540267],\n",
              "       [0.41233318],\n",
              "       [0.43925449],\n",
              "       [0.52554073],\n",
              "       [0.53313392],\n",
              "       [0.50253106],\n",
              "       [0.43994478],\n",
              "       [0.51231017],\n",
              "       [0.49240681],\n",
              "       [0.48826507],\n",
              "       [0.55487805],\n",
              "       [0.40865163],\n",
              "       [0.52393005],\n",
              "       [0.55729406],\n",
              "       [0.49148642],\n",
              "       [0.43292683],\n",
              "       [0.49516797],\n",
              "       [0.52692131],\n",
              "       [0.54739991],\n",
              "       [0.54878049],\n",
              "       [0.56178095],\n",
              "       [0.47491947],\n",
              "       [0.43695352],\n",
              "       [0.49654855],\n",
              "       [0.54107225],\n",
              "       [0.53750575],\n",
              "       [0.4352278 ],\n",
              "       [0.47526461],\n",
              "       [0.59468477],\n",
              "       [0.44305108],\n",
              "       [0.54486884],\n",
              "       [0.67567879],\n",
              "       [0.58766682],\n",
              "       [0.40497009],\n",
              "       [0.53370916],\n",
              "       [0.12574781],\n",
              "       [0.49608836],\n",
              "       [0.53060285],\n",
              "       [0.5961804 ],\n",
              "       [0.57938334],\n",
              "       [0.5859411 ],\n",
              "       [0.54130235],\n",
              "       [0.51334561],\n",
              "       [0.56580764],\n",
              "       [0.38299586],\n",
              "       [0.30924988],\n",
              "       [0.22710538],\n",
              "       [0.20938794],\n",
              "       [0.40520018],\n",
              "       [0.61240221],\n",
              "       [0.57800276],\n",
              "       [0.53969167],\n",
              "       [0.54544409],\n",
              "       [0.54797515],\n",
              "       [0.41843074],\n",
              "       [0.54509894],\n",
              "       [0.51645191],\n",
              "       [0.48918546],\n",
              "       [0.51967326],\n",
              "       [0.41635987],\n",
              "       [0.49815923],\n",
              "       [0.54912563],\n",
              "       [0.27300966],\n",
              "       [0.62137598],\n",
              "       [0.57386102],\n",
              "       [0.53014266],\n",
              "       [0.47146802],\n",
              "       [0.44696272],\n",
              "       [0.55418776],\n",
              "       [0.5959503 ],\n",
              "       [0.27692131],\n",
              "       [0.33317994],\n",
              "       [0.40819144],\n",
              "       [0.51012425],\n",
              "       [0.55269213],\n",
              "       [0.54567418],\n",
              "       [0.57098481],\n",
              "       [0.6197653 ],\n",
              "       [0.63150023],\n",
              "       [0.58617119],\n",
              "       [0.52243442],\n",
              "       [0.27542568],\n",
              "       [0.33260469],\n",
              "       [0.41670502],\n",
              "       [0.59767602],\n",
              "       [0.57742752],\n",
              "       [0.52323976],\n",
              "       [0.54371836],\n",
              "       [0.27634607],\n",
              "       [0.48009664],\n",
              "       [0.49263691],\n",
              "       [0.4930971 ],\n",
              "       [0.50149563],\n",
              "       [0.47917625],\n",
              "       [0.53670041],\n",
              "       [0.4454671 ],\n",
              "       [0.30338242],\n",
              "       [0.42855499],\n",
              "       [0.06960423],\n",
              "       [0.38069489],\n",
              "       [0.41958122],\n",
              "       [0.4654855 ],\n",
              "       [0.47906121],\n",
              "       [0.45467096],\n",
              "       [0.46295444],\n",
              "       [0.44914864],\n",
              "       [0.41728026],\n",
              "       [0.46168891],\n",
              "       [0.48124712],\n",
              "       [0.47020249],\n",
              "       [0.33490566],\n",
              "       [0.38495168],\n",
              "       [0.46537046],\n",
              "       [0.42510354],\n",
              "       [0.5135757 ],\n",
              "       [0.48009664],\n",
              "       [0.20651173],\n",
              "       [0.34871146],\n",
              "       [0.38771284],\n",
              "       [0.41889093],\n",
              "       [0.40243902],\n",
              "       [0.31557754],\n",
              "       [0.18235159],\n",
              "       [0.29268293],\n",
              "       [0.16946618],\n",
              "       [0.31868385],\n",
              "       [0.35043718],\n",
              "       [0.35078233],\n",
              "       [0.44236079],\n",
              "       [0.33271974],\n",
              "       [0.41313852],\n",
              "       [0.42625403],\n",
              "       [0.45075932],\n",
              "       [0.41325357],\n",
              "       [0.39841233],\n",
              "       [0.43591809],\n",
              "       [0.29590428],\n",
              "       [0.078578  ],\n",
              "       [0.37965946],\n",
              "       [0.41394386],\n",
              "       [0.36447308],\n",
              "       [0.31304648],\n",
              "       [0.37827888],\n",
              "       [0.40278417],\n",
              "       [0.42774965],\n",
              "       [0.42418316],\n",
              "       [0.40899678],\n",
              "       [0.31258629],\n",
              "       [0.2771514 ],\n",
              "       [0.38897837],\n",
              "       [0.42890014],\n",
              "       [0.30349747],\n",
              "       [0.35043718],\n",
              "       [0.25161068],\n",
              "       [0.11378279],\n",
              "       [0.08421537],\n",
              "       [0.14898757],\n",
              "       [0.13115509],\n",
              "       [0.26231017],\n",
              "       [0.27623102],\n",
              "       [0.34249885],\n",
              "       [0.28336401],\n",
              "       [0.26138978],\n",
              "       [0.22192821],\n",
              "       [0.25471698],\n",
              "       [0.26990336],\n",
              "       [0.37390704],\n",
              "       [0.46893695],\n",
              "       [0.51760239],\n",
              "       [0.39150943],\n",
              "       [0.27082375],\n",
              "       [0.41141279],\n",
              "       [0.24792913],\n",
              "       [0.46882191],\n",
              "       [0.36723424],\n",
              "       [0.2842844 ],\n",
              "       [0.26334561],\n",
              "       [0.26184998],\n",
              "       [0.33513576],\n",
              "       [0.38587207],\n",
              "       [0.37620801],\n",
              "       [0.36136677],\n",
              "       [0.1471468 ],\n",
              "       [0.22491947],\n",
              "       [0.27726645],\n",
              "       [0.4966636 ],\n",
              "       [0.48872526],\n",
              "       [0.46629084],\n",
              "       [0.39507593],\n",
              "       [0.46030833],\n",
              "       [0.37057064],\n",
              "       [0.41440405],\n",
              "       [0.51622181],\n",
              "       [0.5242752 ],\n",
              "       [0.43016567],\n",
              "       [0.47503451],\n",
              "       [0.32328578],\n",
              "       [0.33651634],\n",
              "       [0.43281178],\n",
              "       [0.50080534],\n",
              "       [0.31983433],\n",
              "       [0.438104  ],\n",
              "       [0.43821905],\n",
              "       [0.24700874],\n",
              "       [0.17337782],\n",
              "       [0.39116429],\n",
              "       [0.44868845],\n",
              "       [0.47710538],\n",
              "       [0.34318914],\n",
              "       [0.47537966],\n",
              "       [0.49424758],\n",
              "       [0.30683387],\n",
              "       [0.35745513],\n",
              "       [0.43200644],\n",
              "       [0.54659457],\n",
              "       [0.57984353],\n",
              "       [0.39864243],\n",
              "       [0.31178095],\n",
              "       [0.38736769],\n",
              "       [0.49470778],\n",
              "       [0.49942476],\n",
              "       [0.20846756],\n",
              "       [0.57156006],\n",
              "       [0.36493327],\n",
              "       [0.46525541],\n",
              "       [0.39127934],\n",
              "       [0.38092499],\n",
              "       [0.45260009],\n",
              "       [0.56304648],\n",
              "       [0.616659  ],\n",
              "       [0.52312471],\n",
              "       [0.47123792],\n",
              "       [0.56247124],\n",
              "       [0.60699494],\n",
              "       [0.67015647],\n",
              "       [0.72365393],\n",
              "       [0.70984814],\n",
              "       [0.50115048],\n",
              "       [0.89898757],\n",
              "       [0.67533364],\n",
              "       [0.70536125],\n",
              "       [0.69845835],\n",
              "       [0.71421997],\n",
              "       [0.78796595],\n",
              "       [0.95950299],\n",
              "       [0.38541187],\n",
              "       [0.57225035],\n",
              "       [0.6369075 ],\n",
              "       [0.58444547],\n",
              "       [0.65301427],\n",
              "       [0.70306029],\n",
              "       [0.62551772],\n",
              "       [0.71479521],\n",
              "       [0.69247584],\n",
              "       [0.68039577],\n",
              "       [0.77657616],\n",
              "       [0.73791993],\n",
              "       [0.74033594],\n",
              "       [0.74068109],\n",
              "       [0.78635527],\n",
              "       [0.5921537 ],\n",
              "       [0.64001381],\n",
              "       [0.6783249 ],\n",
              "       [0.55683387],\n",
              "       [0.6197653 ],\n",
              "       [0.73354809],\n",
              "       [0.85572941],\n",
              "       [0.81799356],\n",
              "       [0.73032674],\n",
              "       [0.76725725],\n",
              "       [0.49988495],\n",
              "       [0.75276116],\n",
              "       [0.83617119],\n",
              "       [0.75954901],\n",
              "       [0.11562356],\n",
              "       [0.36723424],\n",
              "       [0.64553613],\n",
              "       [0.71030833],\n",
              "       [0.57570179],\n",
              "       [0.71456512],\n",
              "       [0.48297285],\n",
              "       [0.72273355],\n",
              "       [0.63851818],\n",
              "       [0.6578463 ],\n",
              "       [0.70720202],\n",
              "       [0.7361942 ],\n",
              "       [0.72181316],\n",
              "       [0.78934653],\n",
              "       [0.72906121],\n",
              "       [0.71916705],\n",
              "       [0.65646572],\n",
              "       [0.54015186],\n",
              "       [0.7535665 ],\n",
              "       [0.80625863],\n",
              "       [0.85216291],\n",
              "       [0.70133456],\n",
              "       [0.32455131],\n",
              "       [0.5859411 ],\n",
              "       [0.85158767],\n",
              "       [0.84698573],\n",
              "       [0.87632306],\n",
              "       [0.95167971],\n",
              "       [0.81764841],\n",
              "       [0.49896457],\n",
              "       [0.69615739],\n",
              "       [0.6026231 ],\n",
              "       [0.77634607],\n",
              "       [0.77220433],\n",
              "       [0.74942476],\n",
              "       [0.75575242],\n",
              "       [0.69270594],\n",
              "       [0.65819144],\n",
              "       [0.78612517],\n",
              "       [0.84169351],\n",
              "       [0.47227335],\n",
              "       [0.9316613 ],\n",
              "       [0.87655315],\n",
              "       [0.80257708],\n",
              "       [0.80292223],\n",
              "       [0.80913484],\n",
              "       [0.85964105],\n",
              "       [0.88748274],\n",
              "       [0.86010124],\n",
              "       [0.75655775],\n",
              "       [0.76415094],\n",
              "       [0.56948919],\n",
              "       [0.85124252],\n",
              "       [0.84456972],\n",
              "       [0.87931431],\n",
              "       [0.8835711 ],\n",
              "       [0.80027612],\n",
              "       [0.58410032],\n",
              "       [0.78267372],\n",
              "       [0.71203405],\n",
              "       [0.67682927],\n",
              "       [0.66739531],\n",
              "       [0.85549931],\n",
              "       [0.79026691],\n",
              "       [0.7773815 ],\n",
              "       [0.85365854],\n",
              "       [0.84134837],\n",
              "       [0.78888633],\n",
              "       [0.62597791],\n",
              "       [0.65174873],\n",
              "       [0.6338012 ],\n",
              "       [0.71387483],\n",
              "       [0.76369075],\n",
              "       [0.84917165],\n",
              "       [0.7154855 ],\n",
              "       [0.71157386],\n",
              "       [0.55430281],\n",
              "       [0.53497469],\n",
              "       [0.75322135],\n",
              "       [0.72112287],\n",
              "       [0.83317994],\n",
              "       [0.85411873],\n",
              "       [0.86021629],\n",
              "       [0.79924068],\n",
              "       [0.69132536],\n",
              "       [0.78324896],\n",
              "       [0.77818684],\n",
              "       [0.65473999],\n",
              "       [0.75575242],\n",
              "       [0.67280258],\n",
              "       [0.5104694 ],\n",
              "       [0.84997699],\n",
              "       [0.79889554],\n",
              "       [0.87091578],\n",
              "       [0.93775886],\n",
              "       [0.78681546],\n",
              "       [0.79176254],\n",
              "       [0.76656696],\n",
              "       [0.75644271],\n",
              "       [0.81488725],\n",
              "       [0.82765762],\n",
              "       [0.8695352 ],\n",
              "       [0.83283479],\n",
              "       [0.82294064],\n",
              "       [0.78255867],\n",
              "       [0.62609296],\n",
              "       [0.80430281],\n",
              "       [0.83421537],\n",
              "       [0.86424298],\n",
              "       [0.835711  ],\n",
              "       [0.66313852],\n",
              "       [0.72215831],\n",
              "       [0.75034514],\n",
              "       [0.78934653],\n",
              "       [0.77795674],\n",
              "       [0.84272895],\n",
              "       [0.87241141],\n",
              "       [0.81983433],\n",
              "       [0.90232398],\n",
              "       [0.52082375],\n",
              "       [0.74873447],\n",
              "       [0.80349747],\n",
              "       [0.8459503 ],\n",
              "       [0.89081914],\n",
              "       [0.8697653 ],\n",
              "       [0.69385642],\n",
              "       [0.60204786],\n",
              "       [0.79325817],\n",
              "       [0.80740911],\n",
              "       [0.88299586],\n",
              "       [0.88483663],\n",
              "       [0.84307409],\n",
              "       [0.70386562],\n",
              "       [0.66589968],\n",
              "       [0.6916705 ],\n",
              "       [0.78716061],\n",
              "       [0.81569259],\n",
              "       [0.71111367],\n",
              "       [0.86079153],\n",
              "       [0.6849977 ],\n",
              "       [0.94397147],\n",
              "       [0.86320755],\n",
              "       [0.89104924],\n",
              "       [0.90289922],\n",
              "       [0.89530603],\n",
              "       [0.91889093],\n",
              "       [1.        ],\n",
              "       [0.84111827],\n",
              "       [0.78773585],\n",
              "       [0.46606075],\n",
              "       [0.87080074],\n",
              "       [0.88564197],\n",
              "       [0.93706857],\n",
              "       [0.96329959],\n",
              "       [0.90715601],\n",
              "       [0.85296825],\n",
              "       [0.86470318],\n",
              "       [0.8871376 ],\n",
              "       [0.84802117],\n",
              "       [0.85055223],\n",
              "       [0.98170732],\n",
              "       [0.79003682],\n",
              "       [0.77726645],\n",
              "       [0.53117809],\n",
              "       [0.86861482],\n",
              "       [0.84054303],\n",
              "       [0.93580304],\n",
              "       [0.91382881],\n",
              "       [0.40128854],\n",
              "       [0.62770364],\n",
              "       [0.7328578 ],\n",
              "       [0.88230557],\n",
              "       [0.86838472],\n",
              "       [0.83525081],\n",
              "       [0.81534745],\n",
              "       [0.76127474],\n",
              "       [0.67337782],\n",
              "       [0.86424298],\n",
              "       [0.85584445],\n",
              "       [0.86136677],\n",
              "       [0.62149103],\n",
              "       [0.92820985],\n",
              "       [0.78255867],\n",
              "       [0.80947998],\n",
              "       [0.8564197 ],\n",
              "       [0.88253566],\n",
              "       [0.84410953],\n",
              "       [0.85388863],\n",
              "       [0.90082835],\n",
              "       [0.5104694 ],\n",
              "       [0.        ],\n",
              "       [0.1235619 ],\n",
              "       [0.63782789],\n",
              "       [0.68614818],\n",
              "       [0.67015647],\n",
              "       [0.58858721],\n",
              "       [0.58502071],\n",
              "       [0.60250805],\n",
              "       [0.65163369],\n",
              "       [0.57673723],\n",
              "       [0.60895076],\n",
              "       [0.68683847],\n",
              "       [0.74942476],\n",
              "       [0.78578003],\n",
              "       [0.71870686],\n",
              "       [0.46847676],\n",
              "       [0.62965946],\n",
              "       [0.62390704],\n",
              "       [0.65301427],\n",
              "       [0.64507593],\n",
              "       [0.53462954],\n",
              "       [0.63011965],\n",
              "       [0.64565117],\n",
              "       [0.58950759],\n",
              "       [0.27646111],\n",
              "       [0.44730787],\n",
              "       [0.25943396],\n",
              "       [0.27634607],\n",
              "       [0.58271974],\n",
              "       [0.45294524],\n",
              "       [0.6026231 ],\n",
              "       [0.60987115],\n",
              "       [0.64956282],\n",
              "       [0.59468477],\n",
              "       [0.53232858],\n",
              "       [0.71468017],\n",
              "       [0.75747814],\n",
              "       [0.65658076],\n",
              "       [0.61585366],\n",
              "       [0.57363092],\n",
              "       [0.63966866],\n",
              "       [0.36884491],\n",
              "       [0.59226875],\n",
              "       [0.63034975],\n",
              "       [0.60941095],\n",
              "       [0.63391624],\n",
              "       [0.64300506],\n",
              "       [0.57811781],\n",
              "       [0.43304188],\n",
              "       [0.52496549],\n",
              "       [0.63679245],\n",
              "       [0.60342844],\n",
              "       [0.4723884 ],\n",
              "       [0.414289  ],\n",
              "       [0.19868845],\n",
              "       [0.20306029],\n",
              "       [0.10331339],\n",
              "       [0.11401289],\n",
              "       [0.04820525],\n",
              "       [0.24068109],\n",
              "       [0.35354349],\n",
              "       [0.15174873],\n",
              "       [0.20409572],\n",
              "       [0.3114358 ]])"
            ]
          },
          "metadata": {
            "tags": []
          },
          "execution_count": 58
        }
      ]
    },
    {
      "cell_type": "code",
      "metadata": {
        "id": "CR3EqaDh1QgD"
      },
      "source": [
        "x_train, x_test, y_train, y_test = train_test_split(x,y, test_size = 0.2)"
      ],
      "execution_count": 61,
      "outputs": []
    },
    {
      "cell_type": "markdown",
      "metadata": {
        "id": "idWHLv5alF4C"
      },
      "source": [
        "#**5. TRAIN THE MODEL**"
      ]
    },
    {
      "cell_type": "markdown",
      "metadata": {
        "id": "oWsccZjQv_6m"
      },
      "source": [
        ""
      ]
    },
    {
      "cell_type": "markdown",
      "metadata": {
        "id": "-wRQqOeB5Zh5"
      },
      "source": [
        "#**6. EVALUATE THE MODEL** "
      ]
    }
  ]
}